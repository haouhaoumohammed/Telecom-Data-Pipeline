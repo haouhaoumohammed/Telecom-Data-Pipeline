{
 "cells": [
  {
   "cell_type": "code",
   "execution_count": 37,
   "id": "0eafc561",
   "metadata": {},
   "outputs": [],
   "source": [
    "import findspark\n",
    "findspark.init()\n",
    "from pyspark.sql import SparkSession\n",
    "from pyspark.sql.functions import from_json, col, count, when, isnull, isnan, desc, to_date,current_date,mean ,lit,substring,ceil\n",
    "# Création d'une session Spark\n",
    "spark = SparkSession.builder\\\n",
    "         .appName(\"RatingEngine\")\\\n",
    "         .config(\"spark.sql.shuffle.partitions\", \"50\")\\\n",
    "         .config(\"spark.sql.autoBroadcastJoinThreshold\", \"10485760\")\\\n",
    "         .config(\"spark.driver.memory\", \"3g\")\\\n",
    "         .getOrCreate()\n"
   ]
  },
  {
   "cell_type": "code",
   "execution_count": 38,
   "id": "2ce7d8c2",
   "metadata": {},
   "outputs": [
    {
     "name": "stdout",
     "output_type": "stream",
     "text": [
      "+--------------------+--------------------+-------------+----------+---------+---------+------------+-------------+-------------+---------+-----------+------------+--------------------+--------------+-----------+\n",
      "|           record_ID|           timestamp|      cell_id|technology|caller_id|callee_id|duration_sec| product_code|rating_status|sender_id|receiver_id|     user_id|session_duration_sec|data_volume_mb|record_type|\n",
      "+--------------------+--------------------+-------------+----------+---------+---------+------------+-------------+-------------+---------+-----------+------------+--------------------+--------------+-----------+\n",
      "|3fb0ed98-9087-47c...|2025-06-10 12:59:...|   TETOUAN_01|        5G|     NULL|     NULL|        NULL|    DATA_PLUS|        ready|     NULL|       NULL|212675185622|                 499|        1159.5|       data|\n",
      "|6206e624-ce2c-40a...|2025-06-10 12:59:...|CASABLANCA_02|        4G|     NULL|     NULL|        NULL|DATA_STANDARD|        ready|     NULL|       NULL|212600679822|                 345|       1153.94|       data|\n",
      "|f9263556-84fc-491...|2025-06-10 12:59:...|      inconnu|        4G|     NULL|     NULL|        NULL|DATA_STANDARD|        ready|     NULL|       NULL|212623573279|                  62|       1109.35|       data|\n",
      "|5dab270b-3b1f-47b...|2025-06-10 12:59:...|       FES_02|        4G|     NULL|     NULL|        NULL|DATA_STANDARD| needs_review|     NULL|       NULL|212736019984|             inconnu|       1129.53|       data|\n",
      "|32712273-2e3e-4aa...|2025-06-10 12:59:...|    AGADIR_01|        3G|     NULL|     NULL|        NULL|DATA_STANDARD|        ready|     NULL|       NULL|212700943384|                 146|        1492.0|       data|\n",
      "|a957fb69-c737-405...|2025-06-10 12:59:...|      SAFI_01|        4G|     NULL|     NULL|        NULL|    DATA_PLUS| needs_review|     NULL|       NULL|212600828137|             inconnu|       1628.02|       data|\n",
      "|53f10fbe-8be8-4d1...|2025-06-10 13:00:...|      inconnu|        3G|     NULL|     NULL|        NULL|DATA_STANDARD| needs_review|     NULL|       NULL|212647835402|             inconnu|       1403.68|       data|\n",
      "|339115a8-8ba6-43d...|2025-06-10 13:00:...|     NADOR_01|        4G|     NULL|     NULL|        NULL|DATA_STANDARD|        ready|     NULL|       NULL|212640485801|                 484|       1070.46|       data|\n",
      "|0f95e9b3-b768-4b5...|2025-06-10 13:00:...|      SAFI_01|        3G|     NULL|     NULL|        NULL|DATA_STANDARD|        ready|     NULL|       NULL|212684341850|                 125|        111.47|       data|\n",
      "|ca6e85fb-2af1-4e6...|2025-06-10 13:00:...|CASABLANCA_01|        3G|     NULL|     NULL|        NULL|    DATA_PLUS|        ready|     NULL|       NULL|212775619582|                 519|       1140.06|       data|\n",
      "|86e8dfb5-e47f-478...|2025-06-10 13:00:...|    TANGER_02|        2G|     NULL|     NULL|        NULL|DATA_STANDARD|        ready|     NULL|       NULL|212783598585|                  72|       1057.98|       data|\n",
      "|ccc74e98-0ced-4aa...|2025-06-10 13:00:...|    DAKHLA_01|        4G|     NULL|     NULL|        NULL|DATA_STANDARD|        ready|     NULL|       NULL|212763243648|                 109|       1631.47|       data|\n",
      "|c3dde101-286d-482...|2025-06-10 13:00:...|  LAAYOUNE_01|        5G|     NULL|     NULL|        NULL|DATA_STANDARD|        ready|     NULL|       NULL|212787824050|                 467|        300.88|       data|\n",
      "|2928a71e-ed97-478...|2025-06-10 13:00:...|CASABLANCA_03|        3G|     NULL|     NULL|        NULL|DATA_STANDARD|        ready|     NULL|       NULL|212735882458|                  95|       1287.66|       data|\n",
      "|68321ac1-2c92-4f9...|2025-06-10 13:00:...|    MEKNES_02|        2G|     NULL|     NULL|        NULL|DATA_STANDARD|        ready|     NULL|       NULL|212623570637|                 450|       1819.71|       data|\n",
      "|f147d7dc-6e1c-41d...|2025-06-10 13:00:...|      inconnu|        4G|     NULL|     NULL|        NULL|DATA_STANDARD| needs_review|     NULL|       NULL|212657871628|             inconnu|       inconnu|       data|\n",
      "|40ae9be8-f5a9-442...|2025-06-10 13:00:...|  ELJADIDA_01|        4G|     NULL|     NULL|        NULL|DATA_STANDARD|        ready|     NULL|       NULL|212735223221|                 483|        630.39|       data|\n",
      "|a5115bcb-29ae-4a4...|2025-06-10 13:00:...|      inconnu|        3G|     NULL|     NULL|        NULL|    DATA_PLUS|        ready|     NULL|       NULL|212647686237|                 151|       1846.16|       data|\n",
      "|b3140cb5-f71e-4cd...|2025-06-10 13:00:...| MARRAKECH_01|        4G|     NULL|     NULL|        NULL|DATA_STANDARD| needs_review|     NULL|       NULL|212790455359|             inconnu|        1006.5|       data|\n",
      "|2b9d2f8b-a26a-40c...|2025-06-10 13:00:...| KHOURIBGA_01|        5G|     NULL|     NULL|        NULL|DATA_STANDARD|        ready|     NULL|       NULL|212772288765|                 224|       1123.03|       data|\n",
      "+--------------------+--------------------+-------------+----------+---------+---------+------------+-------------+-------------+---------+-----------+------------+--------------------+--------------+-----------+\n",
      "only showing top 20 rows\n",
      "\n"
     ]
    }
   ],
   "source": [
    "data_path = r\".\\cleand_df\"  # Ajustez le chemin selon votre environnement\n",
    "cleanedCdrsDf  = spark.read.format(\"parquet\") \\\n",
    "    .option(\"header\", \"true\") \\\n",
    "    .option(\"inferSchema\", \"true\") \\\n",
    "    .load(data_path)\n",
    "cleanedCdrsDf.show()"
   ]
  },
  {
   "cell_type": "code",
   "execution_count": 39,
   "id": "abec0fb2",
   "metadata": {},
   "outputs": [],
   "source": [
    "custuomers_df = spark.read \\\n",
    "    .option(\"header\", True) \\\n",
    "    .csv(\"customer_subscriptions.csv\")"
   ]
  },
  {
   "cell_type": "code",
   "execution_count": 40,
   "id": "b6195e08",
   "metadata": {},
   "outputs": [],
   "source": [
    "catalogDf = spark.read \\\n",
    "    .option(\"header\", True) \\\n",
    "    .csv(\"plans/product_catalog.csv\")\n"
   ]
  },
  {
   "cell_type": "code",
   "execution_count": 41,
   "id": "a7161cb2",
   "metadata": {},
   "outputs": [],
   "source": [
    "from pyspark.sql.functions import col\n",
    "\n",
    "ratePlansDf = spark.read \\\n",
    "    .option(\"header\", True) \\\n",
    "    .csv(\"plans/rate_plans.csv\") \\\n",
    "    .withColumn(\"unit_price\", col(\"unit_price\").cast(\"double\")) \\\n",
    "    .withColumn(\"free_units\", col(\"free_units\").cast(\"int\")) \\\n",
    "    .withColumn(\"tier_threshold\", col(\"tier_threshold\").cast(\"int\")) \\\n",
    "    .withColumn(\"tier_price\", col(\"tier_price\").cast(\"double\"))\n"
   ]
  },
  {
   "cell_type": "code",
   "execution_count": 42,
   "id": "645907fe",
   "metadata": {},
   "outputs": [],
   "source": [
    "cdrs = (cleanedCdrsDf\n",
    "        .withColumn(\n",
    "            \"customer_id\",\n",
    "            when(col(\"record_type\") == \"voice\", col(\"caller_id\"))\n",
    "            .when(col(\"record_type\") == \"sms\",  col(\"sender_id\"))\n",
    "            .otherwise(col(\"user_id\"))\n",
    "        ))"
   ]
  },
  {
   "cell_type": "code",
   "execution_count": 43,
   "id": "29150203",
   "metadata": {},
   "outputs": [
    {
     "name": "stdout",
     "output_type": "stream",
     "text": [
      "+--------------------+--------------------+-------------+----------+---------+---------+------------+-------------+-------------+---------+-----------+------------+--------------------+--------------+-----------+------------+\n",
      "|           record_ID|           timestamp|      cell_id|technology|caller_id|callee_id|duration_sec| product_code|rating_status|sender_id|receiver_id|     user_id|session_duration_sec|data_volume_mb|record_type| customer_id|\n",
      "+--------------------+--------------------+-------------+----------+---------+---------+------------+-------------+-------------+---------+-----------+------------+--------------------+--------------+-----------+------------+\n",
      "|3fb0ed98-9087-47c...|2025-06-10 12:59:...|   TETOUAN_01|        5G|     NULL|     NULL|        NULL|    DATA_PLUS|        ready|     NULL|       NULL|212675185622|                 499|        1159.5|       data|212675185622|\n",
      "|6206e624-ce2c-40a...|2025-06-10 12:59:...|CASABLANCA_02|        4G|     NULL|     NULL|        NULL|DATA_STANDARD|        ready|     NULL|       NULL|212600679822|                 345|       1153.94|       data|212600679822|\n",
      "|f9263556-84fc-491...|2025-06-10 12:59:...|      inconnu|        4G|     NULL|     NULL|        NULL|DATA_STANDARD|        ready|     NULL|       NULL|212623573279|                  62|       1109.35|       data|212623573279|\n",
      "|5dab270b-3b1f-47b...|2025-06-10 12:59:...|       FES_02|        4G|     NULL|     NULL|        NULL|DATA_STANDARD| needs_review|     NULL|       NULL|212736019984|             inconnu|       1129.53|       data|212736019984|\n",
      "|32712273-2e3e-4aa...|2025-06-10 12:59:...|    AGADIR_01|        3G|     NULL|     NULL|        NULL|DATA_STANDARD|        ready|     NULL|       NULL|212700943384|                 146|        1492.0|       data|212700943384|\n",
      "|a957fb69-c737-405...|2025-06-10 12:59:...|      SAFI_01|        4G|     NULL|     NULL|        NULL|    DATA_PLUS| needs_review|     NULL|       NULL|212600828137|             inconnu|       1628.02|       data|212600828137|\n",
      "|53f10fbe-8be8-4d1...|2025-06-10 13:00:...|      inconnu|        3G|     NULL|     NULL|        NULL|DATA_STANDARD| needs_review|     NULL|       NULL|212647835402|             inconnu|       1403.68|       data|212647835402|\n",
      "|339115a8-8ba6-43d...|2025-06-10 13:00:...|     NADOR_01|        4G|     NULL|     NULL|        NULL|DATA_STANDARD|        ready|     NULL|       NULL|212640485801|                 484|       1070.46|       data|212640485801|\n",
      "|0f95e9b3-b768-4b5...|2025-06-10 13:00:...|      SAFI_01|        3G|     NULL|     NULL|        NULL|DATA_STANDARD|        ready|     NULL|       NULL|212684341850|                 125|        111.47|       data|212684341850|\n",
      "|ca6e85fb-2af1-4e6...|2025-06-10 13:00:...|CASABLANCA_01|        3G|     NULL|     NULL|        NULL|    DATA_PLUS|        ready|     NULL|       NULL|212775619582|                 519|       1140.06|       data|212775619582|\n",
      "|86e8dfb5-e47f-478...|2025-06-10 13:00:...|    TANGER_02|        2G|     NULL|     NULL|        NULL|DATA_STANDARD|        ready|     NULL|       NULL|212783598585|                  72|       1057.98|       data|212783598585|\n",
      "|ccc74e98-0ced-4aa...|2025-06-10 13:00:...|    DAKHLA_01|        4G|     NULL|     NULL|        NULL|DATA_STANDARD|        ready|     NULL|       NULL|212763243648|                 109|       1631.47|       data|212763243648|\n",
      "|c3dde101-286d-482...|2025-06-10 13:00:...|  LAAYOUNE_01|        5G|     NULL|     NULL|        NULL|DATA_STANDARD|        ready|     NULL|       NULL|212787824050|                 467|        300.88|       data|212787824050|\n",
      "|2928a71e-ed97-478...|2025-06-10 13:00:...|CASABLANCA_03|        3G|     NULL|     NULL|        NULL|DATA_STANDARD|        ready|     NULL|       NULL|212735882458|                  95|       1287.66|       data|212735882458|\n",
      "|68321ac1-2c92-4f9...|2025-06-10 13:00:...|    MEKNES_02|        2G|     NULL|     NULL|        NULL|DATA_STANDARD|        ready|     NULL|       NULL|212623570637|                 450|       1819.71|       data|212623570637|\n",
      "|f147d7dc-6e1c-41d...|2025-06-10 13:00:...|      inconnu|        4G|     NULL|     NULL|        NULL|DATA_STANDARD| needs_review|     NULL|       NULL|212657871628|             inconnu|       inconnu|       data|212657871628|\n",
      "|40ae9be8-f5a9-442...|2025-06-10 13:00:...|  ELJADIDA_01|        4G|     NULL|     NULL|        NULL|DATA_STANDARD|        ready|     NULL|       NULL|212735223221|                 483|        630.39|       data|212735223221|\n",
      "|a5115bcb-29ae-4a4...|2025-06-10 13:00:...|      inconnu|        3G|     NULL|     NULL|        NULL|    DATA_PLUS|        ready|     NULL|       NULL|212647686237|                 151|       1846.16|       data|212647686237|\n",
      "|b3140cb5-f71e-4cd...|2025-06-10 13:00:...| MARRAKECH_01|        4G|     NULL|     NULL|        NULL|DATA_STANDARD| needs_review|     NULL|       NULL|212790455359|             inconnu|        1006.5|       data|212790455359|\n",
      "|2b9d2f8b-a26a-40c...|2025-06-10 13:00:...| KHOURIBGA_01|        5G|     NULL|     NULL|        NULL|DATA_STANDARD|        ready|     NULL|       NULL|212772288765|                 224|       1123.03|       data|212772288765|\n",
      "+--------------------+--------------------+-------------+----------+---------+---------+------------+-------------+-------------+---------+-----------+------------+--------------------+--------------+-----------+------------+\n",
      "only showing top 20 rows\n",
      "\n"
     ]
    }
   ],
   "source": [
    "cdrs.show()"
   ]
  },
  {
   "cell_type": "code",
   "execution_count": 44,
   "id": "72c6e9c5",
   "metadata": {},
   "outputs": [
    {
     "name": "stdout",
     "output_type": "stream",
     "text": [
      "+------------+--------------------+--------------------+-------------+----------+---------+---------+------------+-------------+-------------+---------+-----------+------------+--------------------+--------------+-----------+------------+\n",
      "| customer_id|           record_ID|           timestamp|      cell_id|technology|caller_id|callee_id|duration_sec| product_code|rating_status|sender_id|receiver_id|     user_id|session_duration_sec|data_volume_mb|record_type|rate_plan_id|\n",
      "+------------+--------------------+--------------------+-------------+----------+---------+---------+------------+-------------+-------------+---------+-----------+------------+--------------------+--------------+-----------+------------+\n",
      "|212675185622|3fb0ed98-9087-47c...|2025-06-10 12:59:...|   TETOUAN_01|        5G|     NULL|     NULL|        NULL|    DATA_PLUS|        ready|     NULL|       NULL|212675185622|                 499|        1159.5|       data|     Starter|\n",
      "|212600679822|6206e624-ce2c-40a...|2025-06-10 12:59:...|CASABLANCA_02|        4G|     NULL|     NULL|        NULL|DATA_STANDARD|        ready|     NULL|       NULL|212600679822|                 345|       1153.94|       data|     Starter|\n",
      "|212623573279|f9263556-84fc-491...|2025-06-10 12:59:...|      inconnu|        4G|     NULL|     NULL|        NULL|DATA_STANDARD|        ready|     NULL|       NULL|212623573279|                  62|       1109.35|       data|     Starter|\n",
      "|212736019984|5dab270b-3b1f-47b...|2025-06-10 12:59:...|       FES_02|        4G|     NULL|     NULL|        NULL|DATA_STANDARD| needs_review|     NULL|       NULL|212736019984|             inconnu|       1129.53|       data|     Starter|\n",
      "|212700943384|32712273-2e3e-4aa...|2025-06-10 12:59:...|    AGADIR_01|        3G|     NULL|     NULL|        NULL|DATA_STANDARD|        ready|     NULL|       NULL|212700943384|                 146|        1492.0|       data|    Infinity|\n",
      "|212600828137|a957fb69-c737-405...|2025-06-10 12:59:...|      SAFI_01|        4G|     NULL|     NULL|        NULL|    DATA_PLUS| needs_review|     NULL|       NULL|212600828137|             inconnu|       1628.02|       data|     Premium|\n",
      "|212647835402|53f10fbe-8be8-4d1...|2025-06-10 13:00:...|      inconnu|        3G|     NULL|     NULL|        NULL|DATA_STANDARD| needs_review|     NULL|       NULL|212647835402|             inconnu|       1403.68|       data|     Starter|\n",
      "|212640485801|339115a8-8ba6-43d...|2025-06-10 13:00:...|     NADOR_01|        4G|     NULL|     NULL|        NULL|DATA_STANDARD|        ready|     NULL|       NULL|212640485801|                 484|       1070.46|       data|    Infinity|\n",
      "|212684341850|0f95e9b3-b768-4b5...|2025-06-10 13:00:...|      SAFI_01|        3G|     NULL|     NULL|        NULL|DATA_STANDARD|        ready|     NULL|       NULL|212684341850|                 125|        111.47|       data|    Infinity|\n",
      "|212775619582|ca6e85fb-2af1-4e6...|2025-06-10 13:00:...|CASABLANCA_01|        3G|     NULL|     NULL|        NULL|    DATA_PLUS|        ready|     NULL|       NULL|212775619582|                 519|       1140.06|       data|     Premium|\n",
      "|212783598585|86e8dfb5-e47f-478...|2025-06-10 13:00:...|    TANGER_02|        2G|     NULL|     NULL|        NULL|DATA_STANDARD|        ready|     NULL|       NULL|212783598585|                  72|       1057.98|       data|    Infinity|\n",
      "|212763243648|ccc74e98-0ced-4aa...|2025-06-10 13:00:...|    DAKHLA_01|        4G|     NULL|     NULL|        NULL|DATA_STANDARD|        ready|     NULL|       NULL|212763243648|                 109|       1631.47|       data|     Premium|\n",
      "|212787824050|c3dde101-286d-482...|2025-06-10 13:00:...|  LAAYOUNE_01|        5G|     NULL|     NULL|        NULL|DATA_STANDARD|        ready|     NULL|       NULL|212787824050|                 467|        300.88|       data|     Premium|\n",
      "|212735882458|2928a71e-ed97-478...|2025-06-10 13:00:...|CASABLANCA_03|        3G|     NULL|     NULL|        NULL|DATA_STANDARD|        ready|     NULL|       NULL|212735882458|                  95|       1287.66|       data|     Premium|\n",
      "|212623570637|68321ac1-2c92-4f9...|2025-06-10 13:00:...|    MEKNES_02|        2G|     NULL|     NULL|        NULL|DATA_STANDARD|        ready|     NULL|       NULL|212623570637|                 450|       1819.71|       data|     Starter|\n",
      "|212657871628|f147d7dc-6e1c-41d...|2025-06-10 13:00:...|      inconnu|        4G|     NULL|     NULL|        NULL|DATA_STANDARD| needs_review|     NULL|       NULL|212657871628|             inconnu|       inconnu|       data|     Starter|\n",
      "|212735223221|40ae9be8-f5a9-442...|2025-06-10 13:00:...|  ELJADIDA_01|        4G|     NULL|     NULL|        NULL|DATA_STANDARD|        ready|     NULL|       NULL|212735223221|                 483|        630.39|       data|     Starter|\n",
      "|212647686237|a5115bcb-29ae-4a4...|2025-06-10 13:00:...|      inconnu|        3G|     NULL|     NULL|        NULL|    DATA_PLUS|        ready|     NULL|       NULL|212647686237|                 151|       1846.16|       data|    Infinity|\n",
      "|212790455359|b3140cb5-f71e-4cd...|2025-06-10 13:00:...| MARRAKECH_01|        4G|     NULL|     NULL|        NULL|DATA_STANDARD| needs_review|     NULL|       NULL|212790455359|             inconnu|        1006.5|       data|    Infinity|\n",
      "|212772288765|2b9d2f8b-a26a-40c...|2025-06-10 13:00:...| KHOURIBGA_01|        5G|     NULL|     NULL|        NULL|DATA_STANDARD|        ready|     NULL|       NULL|212772288765|                 224|       1123.03|       data|     Premium|\n",
      "+------------+--------------------+--------------------+-------------+----------+---------+---------+------------+-------------+-------------+---------+-----------+------------+--------------------+--------------+-----------+------------+\n",
      "only showing top 20 rows\n",
      "\n"
     ]
    }
   ],
   "source": [
    "# ─── jointure client → plan ─────────────────────────────────────────────\n",
    "cdrs1 = cdrs.join(\n",
    "    custuomers_df.filter((col(\"status\") == \"active\") &\n",
    "                       (col(\"subscription_type\") == \"postpaid\"))\n",
    "               .select(\"customer_id\", \"rate_plan_id\"),\n",
    "    on=\"customer_id\",\n",
    "    how=\"inner\"\n",
    ")\n",
    "cdrs1.show()"
   ]
  },
  {
   "cell_type": "code",
   "execution_count": 45,
   "id": "d92da766",
   "metadata": {},
   "outputs": [
    {
     "name": "stdout",
     "output_type": "stream",
     "text": [
      "+-------------+------------+--------------------+--------------------+-------------+----------+---------+---------+------------+-------------+---------+-----------+------------+--------------------+--------------+-----------+------------+------------+----+---------+--------------------+\n",
      "| product_code| customer_id|           record_ID|           timestamp|      cell_id|technology|caller_id|callee_id|duration_sec|rating_status|sender_id|receiver_id|     user_id|session_duration_sec|data_volume_mb|record_type|rate_plan_id|service_type|unit|rate_type|         description|\n",
      "+-------------+------------+--------------------+--------------------+-------------+----------+---------+---------+------------+-------------+---------+-----------+------------+--------------------+--------------+-----------+------------+------------+----+---------+--------------------+\n",
      "|    DATA_PLUS|212675185622|3fb0ed98-9087-47c...|2025-06-10 12:59:...|   TETOUAN_01|        5G|     NULL|     NULL|        NULL|        ready|     NULL|       NULL|212675185622|                 499|        1159.5|       data|     Starter|        data|  MB|   tiered|Session Data prem...|\n",
      "|DATA_STANDARD|212600679822|6206e624-ce2c-40a...|2025-06-10 12:59:...|CASABLANCA_02|        4G|     NULL|     NULL|        NULL|        ready|     NULL|       NULL|212600679822|                 345|       1153.94|       data|     Starter|        data|  MB|     flat|Session Data basi...|\n",
      "|DATA_STANDARD|212623573279|f9263556-84fc-491...|2025-06-10 12:59:...|      inconnu|        4G|     NULL|     NULL|        NULL|        ready|     NULL|       NULL|212623573279|                  62|       1109.35|       data|     Starter|        data|  MB|     flat|Session Data basi...|\n",
      "|DATA_STANDARD|212736019984|5dab270b-3b1f-47b...|2025-06-10 12:59:...|       FES_02|        4G|     NULL|     NULL|        NULL| needs_review|     NULL|       NULL|212736019984|             inconnu|       1129.53|       data|     Starter|        data|  MB|     flat|Session Data basi...|\n",
      "|DATA_STANDARD|212700943384|32712273-2e3e-4aa...|2025-06-10 12:59:...|    AGADIR_01|        3G|     NULL|     NULL|        NULL|        ready|     NULL|       NULL|212700943384|                 146|        1492.0|       data|    Infinity|        data|  MB|     flat|Session Data basi...|\n",
      "|    DATA_PLUS|212600828137|a957fb69-c737-405...|2025-06-10 12:59:...|      SAFI_01|        4G|     NULL|     NULL|        NULL| needs_review|     NULL|       NULL|212600828137|             inconnu|       1628.02|       data|     Premium|        data|  MB|   tiered|Session Data prem...|\n",
      "|DATA_STANDARD|212647835402|53f10fbe-8be8-4d1...|2025-06-10 13:00:...|      inconnu|        3G|     NULL|     NULL|        NULL| needs_review|     NULL|       NULL|212647835402|             inconnu|       1403.68|       data|     Starter|        data|  MB|     flat|Session Data basi...|\n",
      "|DATA_STANDARD|212640485801|339115a8-8ba6-43d...|2025-06-10 13:00:...|     NADOR_01|        4G|     NULL|     NULL|        NULL|        ready|     NULL|       NULL|212640485801|                 484|       1070.46|       data|    Infinity|        data|  MB|     flat|Session Data basi...|\n",
      "|DATA_STANDARD|212684341850|0f95e9b3-b768-4b5...|2025-06-10 13:00:...|      SAFI_01|        3G|     NULL|     NULL|        NULL|        ready|     NULL|       NULL|212684341850|                 125|        111.47|       data|    Infinity|        data|  MB|     flat|Session Data basi...|\n",
      "|    DATA_PLUS|212775619582|ca6e85fb-2af1-4e6...|2025-06-10 13:00:...|CASABLANCA_01|        3G|     NULL|     NULL|        NULL|        ready|     NULL|       NULL|212775619582|                 519|       1140.06|       data|     Premium|        data|  MB|   tiered|Session Data prem...|\n",
      "|DATA_STANDARD|212783598585|86e8dfb5-e47f-478...|2025-06-10 13:00:...|    TANGER_02|        2G|     NULL|     NULL|        NULL|        ready|     NULL|       NULL|212783598585|                  72|       1057.98|       data|    Infinity|        data|  MB|     flat|Session Data basi...|\n",
      "|DATA_STANDARD|212763243648|ccc74e98-0ced-4aa...|2025-06-10 13:00:...|    DAKHLA_01|        4G|     NULL|     NULL|        NULL|        ready|     NULL|       NULL|212763243648|                 109|       1631.47|       data|     Premium|        data|  MB|     flat|Session Data basi...|\n",
      "|DATA_STANDARD|212787824050|c3dde101-286d-482...|2025-06-10 13:00:...|  LAAYOUNE_01|        5G|     NULL|     NULL|        NULL|        ready|     NULL|       NULL|212787824050|                 467|        300.88|       data|     Premium|        data|  MB|     flat|Session Data basi...|\n",
      "|DATA_STANDARD|212735882458|2928a71e-ed97-478...|2025-06-10 13:00:...|CASABLANCA_03|        3G|     NULL|     NULL|        NULL|        ready|     NULL|       NULL|212735882458|                  95|       1287.66|       data|     Premium|        data|  MB|     flat|Session Data basi...|\n",
      "|DATA_STANDARD|212623570637|68321ac1-2c92-4f9...|2025-06-10 13:00:...|    MEKNES_02|        2G|     NULL|     NULL|        NULL|        ready|     NULL|       NULL|212623570637|                 450|       1819.71|       data|     Starter|        data|  MB|     flat|Session Data basi...|\n",
      "|DATA_STANDARD|212657871628|f147d7dc-6e1c-41d...|2025-06-10 13:00:...|      inconnu|        4G|     NULL|     NULL|        NULL| needs_review|     NULL|       NULL|212657871628|             inconnu|       inconnu|       data|     Starter|        data|  MB|     flat|Session Data basi...|\n",
      "|DATA_STANDARD|212735223221|40ae9be8-f5a9-442...|2025-06-10 13:00:...|  ELJADIDA_01|        4G|     NULL|     NULL|        NULL|        ready|     NULL|       NULL|212735223221|                 483|        630.39|       data|     Starter|        data|  MB|     flat|Session Data basi...|\n",
      "|    DATA_PLUS|212647686237|a5115bcb-29ae-4a4...|2025-06-10 13:00:...|      inconnu|        3G|     NULL|     NULL|        NULL|        ready|     NULL|       NULL|212647686237|                 151|       1846.16|       data|    Infinity|        data|  MB|   tiered|Session Data prem...|\n",
      "|DATA_STANDARD|212790455359|b3140cb5-f71e-4cd...|2025-06-10 13:00:...| MARRAKECH_01|        4G|     NULL|     NULL|        NULL| needs_review|     NULL|       NULL|212790455359|             inconnu|        1006.5|       data|    Infinity|        data|  MB|     flat|Session Data basi...|\n",
      "|DATA_STANDARD|212772288765|2b9d2f8b-a26a-40c...|2025-06-10 13:00:...| KHOURIBGA_01|        5G|     NULL|     NULL|        NULL|        ready|     NULL|       NULL|212772288765|                 224|       1123.03|       data|     Premium|        data|  MB|     flat|Session Data basi...|\n",
      "+-------------+------------+--------------------+--------------------+-------------+----------+---------+---------+------------+-------------+---------+-----------+------------+--------------------+--------------+-----------+------------+------------+----+---------+--------------------+\n",
      "only showing top 20 rows\n",
      "\n"
     ]
    }
   ],
   "source": [
    "# ─── jointure produit (rate_type, service_type) ────────────────────────\n",
    "cdrs2 = cdrs1.join(catalogDf, on=\"product_code\", how=\"left\")\n",
    "cdrs2.show()"
   ]
  },
  {
   "cell_type": "code",
   "execution_count": 46,
   "id": "6212e60b",
   "metadata": {},
   "outputs": [],
   "source": [
    "cdrs3 = cdrs2.join(ratePlansDf,\n",
    "                   on=[\"rate_plan_id\", \"product_code\"],\n",
    "                   how=\"left\")"
   ]
  },
  {
   "cell_type": "code",
   "execution_count": 47,
   "id": "dde74800",
   "metadata": {},
   "outputs": [
    {
     "name": "stdout",
     "output_type": "stream",
     "text": [
      "+------------+-------------+------------+--------------------+--------------------+-------------+----------+---------+---------+------------+-------------+---------+-----------+------------+--------------------+--------------+-----------+------------+----+---------+--------------------+------------+----------+----------+--------------+----------+\n",
      "|rate_plan_id| product_code| customer_id|           record_ID|           timestamp|      cell_id|technology|caller_id|callee_id|duration_sec|rating_status|sender_id|receiver_id|     user_id|session_duration_sec|data_volume_mb|record_type|service_type|unit|rate_type|         description|service_type|unit_price|free_units|tier_threshold|tier_price|\n",
      "+------------+-------------+------------+--------------------+--------------------+-------------+----------+---------+---------+------------+-------------+---------+-----------+------------+--------------------+--------------+-----------+------------+----+---------+--------------------+------------+----------+----------+--------------+----------+\n",
      "|     Starter|    DATA_PLUS|212675185622|3fb0ed98-9087-47c...|2025-06-10 12:59:...|   TETOUAN_01|        5G|     NULL|     NULL|        NULL|        ready|     NULL|       NULL|212675185622|                 499|        1159.5|       data|        data|  MB|   tiered|Session Data prem...|        data|     0.012|      1500|          2048|     0.045|\n",
      "|     Starter|DATA_STANDARD|212600679822|6206e624-ce2c-40a...|2025-06-10 12:59:...|CASABLANCA_02|        4G|     NULL|     NULL|        NULL|        ready|     NULL|       NULL|212600679822|                 345|       1153.94|       data|        data|  MB|     flat|Session Data basi...|        data|     0.018|       750|          NULL|      NULL|\n",
      "|     Starter|DATA_STANDARD|212623573279|f9263556-84fc-491...|2025-06-10 12:59:...|      inconnu|        4G|     NULL|     NULL|        NULL|        ready|     NULL|       NULL|212623573279|                  62|       1109.35|       data|        data|  MB|     flat|Session Data basi...|        data|     0.018|       750|          NULL|      NULL|\n",
      "|     Starter|DATA_STANDARD|212736019984|5dab270b-3b1f-47b...|2025-06-10 12:59:...|       FES_02|        4G|     NULL|     NULL|        NULL| needs_review|     NULL|       NULL|212736019984|             inconnu|       1129.53|       data|        data|  MB|     flat|Session Data basi...|        data|     0.018|       750|          NULL|      NULL|\n",
      "|    Infinity|DATA_STANDARD|212700943384|32712273-2e3e-4aa...|2025-06-10 12:59:...|    AGADIR_01|        3G|     NULL|     NULL|        NULL|        ready|     NULL|       NULL|212700943384|                 146|        1492.0|       data|        data|  MB|     flat|Session Data basi...|        data|     0.015|      1500|          NULL|      NULL|\n",
      "|     Premium|    DATA_PLUS|212600828137|a957fb69-c737-405...|2025-06-10 12:59:...|      SAFI_01|        4G|     NULL|     NULL|        NULL| needs_review|     NULL|       NULL|212600828137|             inconnu|       1628.02|       data|        data|  MB|   tiered|Session Data prem...|        data|     0.015|      1200|          1536|      0.05|\n",
      "|     Starter|DATA_STANDARD|212647835402|53f10fbe-8be8-4d1...|2025-06-10 13:00:...|      inconnu|        3G|     NULL|     NULL|        NULL| needs_review|     NULL|       NULL|212647835402|             inconnu|       1403.68|       data|        data|  MB|     flat|Session Data basi...|        data|     0.018|       750|          NULL|      NULL|\n",
      "|    Infinity|DATA_STANDARD|212640485801|339115a8-8ba6-43d...|2025-06-10 13:00:...|     NADOR_01|        4G|     NULL|     NULL|        NULL|        ready|     NULL|       NULL|212640485801|                 484|       1070.46|       data|        data|  MB|     flat|Session Data basi...|        data|     0.015|      1500|          NULL|      NULL|\n",
      "|    Infinity|DATA_STANDARD|212684341850|0f95e9b3-b768-4b5...|2025-06-10 13:00:...|      SAFI_01|        3G|     NULL|     NULL|        NULL|        ready|     NULL|       NULL|212684341850|                 125|        111.47|       data|        data|  MB|     flat|Session Data basi...|        data|     0.015|      1500|          NULL|      NULL|\n",
      "|     Premium|    DATA_PLUS|212775619582|ca6e85fb-2af1-4e6...|2025-06-10 13:00:...|CASABLANCA_01|        3G|     NULL|     NULL|        NULL|        ready|     NULL|       NULL|212775619582|                 519|       1140.06|       data|        data|  MB|   tiered|Session Data prem...|        data|     0.015|      1200|          1536|      0.05|\n",
      "|    Infinity|DATA_STANDARD|212783598585|86e8dfb5-e47f-478...|2025-06-10 13:00:...|    TANGER_02|        2G|     NULL|     NULL|        NULL|        ready|     NULL|       NULL|212783598585|                  72|       1057.98|       data|        data|  MB|     flat|Session Data basi...|        data|     0.015|      1500|          NULL|      NULL|\n",
      "|     Premium|DATA_STANDARD|212763243648|ccc74e98-0ced-4aa...|2025-06-10 13:00:...|    DAKHLA_01|        4G|     NULL|     NULL|        NULL|        ready|     NULL|       NULL|212763243648|                 109|       1631.47|       data|        data|  MB|     flat|Session Data basi...|        data|      0.02|       500|          NULL|      NULL|\n",
      "|     Premium|DATA_STANDARD|212787824050|c3dde101-286d-482...|2025-06-10 13:00:...|  LAAYOUNE_01|        5G|     NULL|     NULL|        NULL|        ready|     NULL|       NULL|212787824050|                 467|        300.88|       data|        data|  MB|     flat|Session Data basi...|        data|      0.02|       500|          NULL|      NULL|\n",
      "|     Premium|DATA_STANDARD|212735882458|2928a71e-ed97-478...|2025-06-10 13:00:...|CASABLANCA_03|        3G|     NULL|     NULL|        NULL|        ready|     NULL|       NULL|212735882458|                  95|       1287.66|       data|        data|  MB|     flat|Session Data basi...|        data|      0.02|       500|          NULL|      NULL|\n",
      "|     Starter|DATA_STANDARD|212623570637|68321ac1-2c92-4f9...|2025-06-10 13:00:...|    MEKNES_02|        2G|     NULL|     NULL|        NULL|        ready|     NULL|       NULL|212623570637|                 450|       1819.71|       data|        data|  MB|     flat|Session Data basi...|        data|     0.018|       750|          NULL|      NULL|\n",
      "|     Starter|DATA_STANDARD|212657871628|f147d7dc-6e1c-41d...|2025-06-10 13:00:...|      inconnu|        4G|     NULL|     NULL|        NULL| needs_review|     NULL|       NULL|212657871628|             inconnu|       inconnu|       data|        data|  MB|     flat|Session Data basi...|        data|     0.018|       750|          NULL|      NULL|\n",
      "|     Starter|DATA_STANDARD|212735223221|40ae9be8-f5a9-442...|2025-06-10 13:00:...|  ELJADIDA_01|        4G|     NULL|     NULL|        NULL|        ready|     NULL|       NULL|212735223221|                 483|        630.39|       data|        data|  MB|     flat|Session Data basi...|        data|     0.018|       750|          NULL|      NULL|\n",
      "|    Infinity|    DATA_PLUS|212647686237|a5115bcb-29ae-4a4...|2025-06-10 13:00:...|      inconnu|        3G|     NULL|     NULL|        NULL|        ready|     NULL|       NULL|212647686237|                 151|       1846.16|       data|        data|  MB|   tiered|Session Data prem...|        data|     0.012|      2000|          3072|     0.045|\n",
      "|    Infinity|DATA_STANDARD|212790455359|b3140cb5-f71e-4cd...|2025-06-10 13:00:...| MARRAKECH_01|        4G|     NULL|     NULL|        NULL| needs_review|     NULL|       NULL|212790455359|             inconnu|        1006.5|       data|        data|  MB|     flat|Session Data basi...|        data|     0.015|      1500|          NULL|      NULL|\n",
      "|     Premium|DATA_STANDARD|212772288765|2b9d2f8b-a26a-40c...|2025-06-10 13:00:...| KHOURIBGA_01|        5G|     NULL|     NULL|        NULL|        ready|     NULL|       NULL|212772288765|                 224|       1123.03|       data|        data|  MB|     flat|Session Data basi...|        data|      0.02|       500|          NULL|      NULL|\n",
      "+------------+-------------+------------+--------------------+--------------------+-------------+----------+---------+---------+------------+-------------+---------+-----------+------------+--------------------+--------------+-----------+------------+----+---------+--------------------+------------+----------+----------+--------------+----------+\n",
      "only showing top 20 rows\n",
      "\n"
     ]
    }
   ],
   "source": [
    "cdrs3.show()"
   ]
  },
  {
   "cell_type": "code",
   "execution_count": 48,
   "id": "bd2697ab",
   "metadata": {},
   "outputs": [
    {
     "name": "stdout",
     "output_type": "stream",
     "text": [
      "+------------+-------------+------------+--------------------+--------------------+-------------+----------+---------+---------+------------+-------------+---------+-----------+------------+--------------------+--------------+-----------+----+---------+--------------------+----------+----------+--------------+----------+\n",
      "|rate_plan_id| product_code| customer_id|           record_ID|           timestamp|      cell_id|technology|caller_id|callee_id|duration_sec|rating_status|sender_id|receiver_id|     user_id|session_duration_sec|data_volume_mb|record_type|unit|rate_type|         description|unit_price|free_units|tier_threshold|tier_price|\n",
      "+------------+-------------+------------+--------------------+--------------------+-------------+----------+---------+---------+------------+-------------+---------+-----------+------------+--------------------+--------------+-----------+----+---------+--------------------+----------+----------+--------------+----------+\n",
      "|     Starter|    DATA_PLUS|212675185622|3fb0ed98-9087-47c...|2025-06-10 12:59:...|   TETOUAN_01|        5G|     NULL|     NULL|        NULL|        ready|     NULL|       NULL|212675185622|                 499|        1159.5|       data|  MB|   tiered|Session Data prem...|     0.012|      1500|          2048|     0.045|\n",
      "|     Starter|DATA_STANDARD|212600679822|6206e624-ce2c-40a...|2025-06-10 12:59:...|CASABLANCA_02|        4G|     NULL|     NULL|        NULL|        ready|     NULL|       NULL|212600679822|                 345|       1153.94|       data|  MB|     flat|Session Data basi...|     0.018|       750|          NULL|      NULL|\n",
      "|     Starter|DATA_STANDARD|212623573279|f9263556-84fc-491...|2025-06-10 12:59:...|      inconnu|        4G|     NULL|     NULL|        NULL|        ready|     NULL|       NULL|212623573279|                  62|       1109.35|       data|  MB|     flat|Session Data basi...|     0.018|       750|          NULL|      NULL|\n",
      "|     Starter|DATA_STANDARD|212736019984|5dab270b-3b1f-47b...|2025-06-10 12:59:...|       FES_02|        4G|     NULL|     NULL|        NULL| needs_review|     NULL|       NULL|212736019984|             inconnu|       1129.53|       data|  MB|     flat|Session Data basi...|     0.018|       750|          NULL|      NULL|\n",
      "|    Infinity|DATA_STANDARD|212700943384|32712273-2e3e-4aa...|2025-06-10 12:59:...|    AGADIR_01|        3G|     NULL|     NULL|        NULL|        ready|     NULL|       NULL|212700943384|                 146|        1492.0|       data|  MB|     flat|Session Data basi...|     0.015|      1500|          NULL|      NULL|\n",
      "|     Premium|    DATA_PLUS|212600828137|a957fb69-c737-405...|2025-06-10 12:59:...|      SAFI_01|        4G|     NULL|     NULL|        NULL| needs_review|     NULL|       NULL|212600828137|             inconnu|       1628.02|       data|  MB|   tiered|Session Data prem...|     0.015|      1200|          1536|      0.05|\n",
      "|     Starter|DATA_STANDARD|212647835402|53f10fbe-8be8-4d1...|2025-06-10 13:00:...|      inconnu|        3G|     NULL|     NULL|        NULL| needs_review|     NULL|       NULL|212647835402|             inconnu|       1403.68|       data|  MB|     flat|Session Data basi...|     0.018|       750|          NULL|      NULL|\n",
      "|    Infinity|DATA_STANDARD|212640485801|339115a8-8ba6-43d...|2025-06-10 13:00:...|     NADOR_01|        4G|     NULL|     NULL|        NULL|        ready|     NULL|       NULL|212640485801|                 484|       1070.46|       data|  MB|     flat|Session Data basi...|     0.015|      1500|          NULL|      NULL|\n",
      "|    Infinity|DATA_STANDARD|212684341850|0f95e9b3-b768-4b5...|2025-06-10 13:00:...|      SAFI_01|        3G|     NULL|     NULL|        NULL|        ready|     NULL|       NULL|212684341850|                 125|        111.47|       data|  MB|     flat|Session Data basi...|     0.015|      1500|          NULL|      NULL|\n",
      "|     Premium|    DATA_PLUS|212775619582|ca6e85fb-2af1-4e6...|2025-06-10 13:00:...|CASABLANCA_01|        3G|     NULL|     NULL|        NULL|        ready|     NULL|       NULL|212775619582|                 519|       1140.06|       data|  MB|   tiered|Session Data prem...|     0.015|      1200|          1536|      0.05|\n",
      "|    Infinity|DATA_STANDARD|212783598585|86e8dfb5-e47f-478...|2025-06-10 13:00:...|    TANGER_02|        2G|     NULL|     NULL|        NULL|        ready|     NULL|       NULL|212783598585|                  72|       1057.98|       data|  MB|     flat|Session Data basi...|     0.015|      1500|          NULL|      NULL|\n",
      "|     Premium|DATA_STANDARD|212763243648|ccc74e98-0ced-4aa...|2025-06-10 13:00:...|    DAKHLA_01|        4G|     NULL|     NULL|        NULL|        ready|     NULL|       NULL|212763243648|                 109|       1631.47|       data|  MB|     flat|Session Data basi...|      0.02|       500|          NULL|      NULL|\n",
      "|     Premium|DATA_STANDARD|212787824050|c3dde101-286d-482...|2025-06-10 13:00:...|  LAAYOUNE_01|        5G|     NULL|     NULL|        NULL|        ready|     NULL|       NULL|212787824050|                 467|        300.88|       data|  MB|     flat|Session Data basi...|      0.02|       500|          NULL|      NULL|\n",
      "|     Premium|DATA_STANDARD|212735882458|2928a71e-ed97-478...|2025-06-10 13:00:...|CASABLANCA_03|        3G|     NULL|     NULL|        NULL|        ready|     NULL|       NULL|212735882458|                  95|       1287.66|       data|  MB|     flat|Session Data basi...|      0.02|       500|          NULL|      NULL|\n",
      "|     Starter|DATA_STANDARD|212623570637|68321ac1-2c92-4f9...|2025-06-10 13:00:...|    MEKNES_02|        2G|     NULL|     NULL|        NULL|        ready|     NULL|       NULL|212623570637|                 450|       1819.71|       data|  MB|     flat|Session Data basi...|     0.018|       750|          NULL|      NULL|\n",
      "|     Starter|DATA_STANDARD|212657871628|f147d7dc-6e1c-41d...|2025-06-10 13:00:...|      inconnu|        4G|     NULL|     NULL|        NULL| needs_review|     NULL|       NULL|212657871628|             inconnu|       inconnu|       data|  MB|     flat|Session Data basi...|     0.018|       750|          NULL|      NULL|\n",
      "|     Starter|DATA_STANDARD|212735223221|40ae9be8-f5a9-442...|2025-06-10 13:00:...|  ELJADIDA_01|        4G|     NULL|     NULL|        NULL|        ready|     NULL|       NULL|212735223221|                 483|        630.39|       data|  MB|     flat|Session Data basi...|     0.018|       750|          NULL|      NULL|\n",
      "|    Infinity|    DATA_PLUS|212647686237|a5115bcb-29ae-4a4...|2025-06-10 13:00:...|      inconnu|        3G|     NULL|     NULL|        NULL|        ready|     NULL|       NULL|212647686237|                 151|       1846.16|       data|  MB|   tiered|Session Data prem...|     0.012|      2000|          3072|     0.045|\n",
      "|    Infinity|DATA_STANDARD|212790455359|b3140cb5-f71e-4cd...|2025-06-10 13:00:...| MARRAKECH_01|        4G|     NULL|     NULL|        NULL| needs_review|     NULL|       NULL|212790455359|             inconnu|        1006.5|       data|  MB|     flat|Session Data basi...|     0.015|      1500|          NULL|      NULL|\n",
      "|     Premium|DATA_STANDARD|212772288765|2b9d2f8b-a26a-40c...|2025-06-10 13:00:...| KHOURIBGA_01|        5G|     NULL|     NULL|        NULL|        ready|     NULL|       NULL|212772288765|                 224|       1123.03|       data|  MB|     flat|Session Data basi...|      0.02|       500|          NULL|      NULL|\n",
      "+------------+-------------+------------+--------------------+--------------------+-------------+----------+---------+---------+------------+-------------+---------+-----------+------------+--------------------+--------------+-----------+----+---------+--------------------+----------+----------+--------------+----------+\n",
      "only showing top 20 rows\n",
      "\n"
     ]
    }
   ],
   "source": [
    "cdrs3=cdrs3.drop(\"service_type\")\n",
    "cdrs3.show()"
   ]
  },
  {
   "cell_type": "code",
   "execution_count": 49,
   "id": "a1b07d59",
   "metadata": {},
   "outputs": [],
   "source": [
    "from pyspark.sql import Window\n",
    "agg = (cdrs3.filter(col(\"record_type\")==\"data\")\n",
    "           .groupBy(\"customer_id\")\n",
    "           .agg(mean(\"data_volume_mb\").alias(\"user_mean_mb\")))\n",
    "\n",
    "cdrs4 = cdrs3.join(agg, \"customer_id\", \"left\")"
   ]
  },
  {
   "cell_type": "code",
   "execution_count": 50,
   "id": "31aa9336",
   "metadata": {},
   "outputs": [
    {
     "name": "stdout",
     "output_type": "stream",
     "text": [
      "+------------+------------+-------------+--------------------+--------------------+-------------+----------+---------+---------+------------+-------------+---------+-----------+------------+--------------------+--------------+-----------+----+---------+--------------------+----------+----------+--------------+----------+------------+\n",
      "| customer_id|rate_plan_id| product_code|           record_ID|           timestamp|      cell_id|technology|caller_id|callee_id|duration_sec|rating_status|sender_id|receiver_id|     user_id|session_duration_sec|data_volume_mb|record_type|unit|rate_type|         description|unit_price|free_units|tier_threshold|tier_price|user_mean_mb|\n",
      "+------------+------------+-------------+--------------------+--------------------+-------------+----------+---------+---------+------------+-------------+---------+-----------+------------+--------------------+--------------+-----------+----+---------+--------------------+----------+----------+--------------+----------+------------+\n",
      "|212647686237|    Infinity|    DATA_PLUS|a5115bcb-29ae-4a4...|2025-06-10 13:00:...|      inconnu|        3G|     NULL|     NULL|        NULL|        ready|     NULL|       NULL|212647686237|                 151|       1846.16|       data|  MB|   tiered|Session Data prem...|     0.012|      2000|          3072|     0.045|     1846.16|\n",
      "|212647835402|     Starter|DATA_STANDARD|53f10fbe-8be8-4d1...|2025-06-10 13:00:...|      inconnu|        3G|     NULL|     NULL|        NULL| needs_review|     NULL|       NULL|212647835402|             inconnu|       1403.68|       data|  MB|     flat|Session Data basi...|     0.018|       750|          NULL|      NULL|     1403.68|\n",
      "|212775619582|     Premium|    DATA_PLUS|ca6e85fb-2af1-4e6...|2025-06-10 13:00:...|CASABLANCA_01|        3G|     NULL|     NULL|        NULL|        ready|     NULL|       NULL|212775619582|                 519|       1140.06|       data|  MB|   tiered|Session Data prem...|     0.015|      1200|          1536|      0.05|     1140.06|\n",
      "|212600679822|     Starter|DATA_STANDARD|6206e624-ce2c-40a...|2025-06-10 12:59:...|CASABLANCA_02|        4G|     NULL|     NULL|        NULL|        ready|     NULL|       NULL|212600679822|                 345|       1153.94|       data|  MB|     flat|Session Data basi...|     0.018|       750|          NULL|      NULL|     1153.94|\n",
      "|212640485801|    Infinity|DATA_STANDARD|339115a8-8ba6-43d...|2025-06-10 13:00:...|     NADOR_01|        4G|     NULL|     NULL|        NULL|        ready|     NULL|       NULL|212640485801|                 484|       1070.46|       data|  MB|     flat|Session Data basi...|     0.015|      1500|          NULL|      NULL|     1070.46|\n",
      "|212736019984|     Starter|DATA_STANDARD|5dab270b-3b1f-47b...|2025-06-10 12:59:...|       FES_02|        4G|     NULL|     NULL|        NULL| needs_review|     NULL|       NULL|212736019984|             inconnu|       1129.53|       data|  MB|     flat|Session Data basi...|     0.018|       750|          NULL|      NULL|     1129.53|\n",
      "|212700943384|    Infinity|DATA_STANDARD|32712273-2e3e-4aa...|2025-06-10 12:59:...|    AGADIR_01|        3G|     NULL|     NULL|        NULL|        ready|     NULL|       NULL|212700943384|                 146|        1492.0|       data|  MB|     flat|Session Data basi...|     0.015|      1500|          NULL|      NULL|      1492.0|\n",
      "|212623573279|     Starter|DATA_STANDARD|f9263556-84fc-491...|2025-06-10 12:59:...|      inconnu|        4G|     NULL|     NULL|        NULL|        ready|     NULL|       NULL|212623573279|                  62|       1109.35|       data|  MB|     flat|Session Data basi...|     0.018|       750|          NULL|      NULL|     1109.35|\n",
      "|212675185622|     Starter|    DATA_PLUS|3fb0ed98-9087-47c...|2025-06-10 12:59:...|   TETOUAN_01|        5G|     NULL|     NULL|        NULL|        ready|     NULL|       NULL|212675185622|                 499|        1159.5|       data|  MB|   tiered|Session Data prem...|     0.012|      1500|          2048|     0.045|      1159.5|\n",
      "|212735223221|     Starter|DATA_STANDARD|40ae9be8-f5a9-442...|2025-06-10 13:00:...|  ELJADIDA_01|        4G|     NULL|     NULL|        NULL|        ready|     NULL|       NULL|212735223221|                 483|        630.39|       data|  MB|     flat|Session Data basi...|     0.018|       750|          NULL|      NULL|      630.39|\n",
      "|212657871628|     Starter|DATA_STANDARD|f147d7dc-6e1c-41d...|2025-06-10 13:00:...|      inconnu|        4G|     NULL|     NULL|        NULL| needs_review|     NULL|       NULL|212657871628|             inconnu|       inconnu|       data|  MB|     flat|Session Data basi...|     0.018|       750|          NULL|      NULL|        NULL|\n",
      "|212639907742|    Infinity|DATA_STANDARD|a7c5da1b-428f-453...|2025-06-10 13:00:...|   TETOUAN_01|        4G|     NULL|     NULL|        NULL| needs_review|     NULL|       NULL|212639907742|                  84|       inconnu|       data|  MB|     flat|Session Data basi...|     0.015|      1500|          NULL|      NULL|        NULL|\n",
      "|212600828137|     Premium|    DATA_PLUS|a957fb69-c737-405...|2025-06-10 12:59:...|      SAFI_01|        4G|     NULL|     NULL|        NULL| needs_review|     NULL|       NULL|212600828137|             inconnu|       1628.02|       data|  MB|   tiered|Session Data prem...|     0.015|      1200|          1536|      0.05|     1628.02|\n",
      "|212772288765|     Premium|DATA_STANDARD|2b9d2f8b-a26a-40c...|2025-06-10 13:00:...| KHOURIBGA_01|        5G|     NULL|     NULL|        NULL|        ready|     NULL|       NULL|212772288765|                 224|       1123.03|       data|  MB|     flat|Session Data basi...|      0.02|       500|          NULL|      NULL|     1123.03|\n",
      "|212684341850|    Infinity|DATA_STANDARD|0f95e9b3-b768-4b5...|2025-06-10 13:00:...|      SAFI_01|        3G|     NULL|     NULL|        NULL|        ready|     NULL|       NULL|212684341850|                 125|        111.47|       data|  MB|     flat|Session Data basi...|     0.015|      1500|          NULL|      NULL|      111.47|\n",
      "|212735882458|     Premium|DATA_STANDARD|2928a71e-ed97-478...|2025-06-10 13:00:...|CASABLANCA_03|        3G|     NULL|     NULL|        NULL|        ready|     NULL|       NULL|212735882458|                  95|       1287.66|       data|  MB|     flat|Session Data basi...|      0.02|       500|          NULL|      NULL|     1287.66|\n",
      "|212783598585|    Infinity|DATA_STANDARD|86e8dfb5-e47f-478...|2025-06-10 13:00:...|    TANGER_02|        2G|     NULL|     NULL|        NULL|        ready|     NULL|       NULL|212783598585|                  72|       1057.98|       data|  MB|     flat|Session Data basi...|     0.015|      1500|          NULL|      NULL|     1057.98|\n",
      "|212790455359|    Infinity|DATA_STANDARD|b3140cb5-f71e-4cd...|2025-06-10 13:00:...| MARRAKECH_01|        4G|     NULL|     NULL|        NULL| needs_review|     NULL|       NULL|212790455359|             inconnu|        1006.5|       data|  MB|     flat|Session Data basi...|     0.015|      1500|          NULL|      NULL|      1006.5|\n",
      "|212623570637|     Starter|DATA_STANDARD|68321ac1-2c92-4f9...|2025-06-10 13:00:...|    MEKNES_02|        2G|     NULL|     NULL|        NULL|        ready|     NULL|       NULL|212623570637|                 450|       1819.71|       data|  MB|     flat|Session Data basi...|     0.018|       750|          NULL|      NULL|     1819.71|\n",
      "|212763243648|     Premium|DATA_STANDARD|ccc74e98-0ced-4aa...|2025-06-10 13:00:...|    DAKHLA_01|        4G|     NULL|     NULL|        NULL|        ready|     NULL|       NULL|212763243648|                 109|       1631.47|       data|  MB|     flat|Session Data basi...|      0.02|       500|          NULL|      NULL|     1631.47|\n",
      "+------------+------------+-------------+--------------------+--------------------+-------------+----------+---------+---------+------------+-------------+---------+-----------+------------+--------------------+--------------+-----------+----+---------+--------------------+----------+----------+--------------+----------+------------+\n",
      "only showing top 20 rows\n",
      "\n"
     ]
    }
   ],
   "source": [
    "cdrs4.show()"
   ]
  },
  {
   "cell_type": "code",
   "execution_count": 51,
   "id": "95afade2",
   "metadata": {},
   "outputs": [],
   "source": [
    "cdrs4 = cdrs4.withColumn(\n",
    "    \"imputed_mb\",\n",
    "    when((col(\"data_volume_mb\").isNull()) | (col(\"data_volume_mb\")==\"inconnu\"), col(\"user_mean_mb\"))\n",
    "    .otherwise(col(\"data_volume_mb\"))\n",
    ")"
   ]
  },
  {
   "cell_type": "code",
   "execution_count": 52,
   "id": "1767020d",
   "metadata": {},
   "outputs": [],
   "source": [
    "cdrs4 = cdrs4.withColumn(\n",
    "    \"imputed_mb\",\n",
    "    when((col(\"user_mean_mb\").isNull()) & (col(\"imputed_mb\").isNull()), lit(0)).otherwise(col(\"imputed_mb\")))"
   ]
  },
  {
   "cell_type": "code",
   "execution_count": 53,
   "id": "0c150671",
   "metadata": {},
   "outputs": [],
   "source": [
    "cdrs4 = cdrs4.withColumn(\n",
    "    \"rating_status\",\n",
    "    when(col(\"rating_status\")==\"needs_review\", \"imputed\").otherwise(col(\"rating_status\"))\n",
    ")"
   ]
  },
  {
   "cell_type": "code",
   "execution_count": 54,
   "id": "94a9c421",
   "metadata": {},
   "outputs": [
    {
     "name": "stdout",
     "output_type": "stream",
     "text": [
      "+------------+------------+-------------+--------------------+--------------------+-------------+----------+------------+------------+------------+-------------+---------+-----------+------------+--------------------+--------------+-----------+------+---------+--------------------+----------+----------+--------------+----------+------------+----------+\n",
      "| customer_id|rate_plan_id| product_code|           record_ID|           timestamp|      cell_id|technology|   caller_id|   callee_id|duration_sec|rating_status|sender_id|receiver_id|     user_id|session_duration_sec|data_volume_mb|record_type|  unit|rate_type|         description|unit_price|free_units|tier_threshold|tier_price|user_mean_mb|imputed_mb|\n",
      "+------------+------------+-------------+--------------------+--------------------+-------------+----------+------------+------------+------------+-------------+---------+-----------+------------+--------------------+--------------+-----------+------+---------+--------------------+----------+----------+--------------+----------+------------+----------+\n",
      "|212617942523|    Infinity|    VOICE_NAT|1f87f2c1-e038-405...|2025-06-10 13:00:...|      inconnu|        5G|212617942523|212662020384|         399|        ready|     NULL|       NULL|        NULL|                NULL|          NULL|      voice|second|     flat|Appel vocal natio...|     0.006|       300|          NULL|      NULL|        NULL|         0|\n",
      "|212793499686|    Infinity|    VOICE_NAT|ff79da47-77d4-4aa...|2025-06-10 13:00:...|    TANGER_03|        3G|212793499686|212639821857|         527|        ready|     NULL|       NULL|        NULL|                NULL|          NULL|      voice|second|     flat|Appel vocal natio...|     0.006|       300|          NULL|      NULL|        NULL|         0|\n",
      "|212647686237|    Infinity|    DATA_PLUS|a5115bcb-29ae-4a4...|2025-06-10 13:00:...|      inconnu|        3G|        NULL|        NULL|        NULL|        ready|     NULL|       NULL|212647686237|                 151|       1846.16|       data|    MB|   tiered|Session Data prem...|     0.012|      2000|          3072|     0.045|     1846.16|   1846.16|\n",
      "|212647835402|     Starter|DATA_STANDARD|53f10fbe-8be8-4d1...|2025-06-10 13:00:...|      inconnu|        3G|        NULL|        NULL|        NULL|      imputed|     NULL|       NULL|212647835402|             inconnu|       1403.68|       data|    MB|     flat|Session Data basi...|     0.018|       750|          NULL|      NULL|     1403.68|   1403.68|\n",
      "|212775619582|     Premium|    DATA_PLUS|ca6e85fb-2af1-4e6...|2025-06-10 13:00:...|CASABLANCA_01|        3G|        NULL|        NULL|        NULL|        ready|     NULL|       NULL|212775619582|                 519|       1140.06|       data|    MB|   tiered|Session Data prem...|     0.015|      1200|          1536|      0.05|     1140.06|   1140.06|\n",
      "|212600679822|     Starter|DATA_STANDARD|6206e624-ce2c-40a...|2025-06-10 12:59:...|CASABLANCA_02|        4G|        NULL|        NULL|        NULL|        ready|     NULL|       NULL|212600679822|                 345|       1153.94|       data|    MB|     flat|Session Data basi...|     0.018|       750|          NULL|      NULL|     1153.94|   1153.94|\n",
      "|212640485801|    Infinity|DATA_STANDARD|339115a8-8ba6-43d...|2025-06-10 13:00:...|     NADOR_01|        4G|        NULL|        NULL|        NULL|        ready|     NULL|       NULL|212640485801|                 484|       1070.46|       data|    MB|     flat|Session Data basi...|     0.015|      1500|          NULL|      NULL|     1070.46|   1070.46|\n",
      "|212624348489|     Premium|    VOICE_NAT|1c941805-549e-46f...|2025-06-10 12:59:...|    AGADIR_02|        4G|212624348489|212700899658|         598|        ready|     NULL|       NULL|        NULL|                NULL|          NULL|      voice|second|     flat|Appel vocal natio...|      0.01|       120|          NULL|      NULL|        NULL|         0|\n",
      "|212736019984|     Starter|DATA_STANDARD|5dab270b-3b1f-47b...|2025-06-10 12:59:...|       FES_02|        4G|        NULL|        NULL|        NULL|      imputed|     NULL|       NULL|212736019984|             inconnu|       1129.53|       data|    MB|     flat|Session Data basi...|     0.018|       750|          NULL|      NULL|     1129.53|   1129.53|\n",
      "|212605274278|     Starter|    VOICE_NAT|400db193-0659-41b...|2025-06-10 12:59:...|   KENITRA_01|        4G|212605274278|212680835265|         199|        ready|     NULL|       NULL|        NULL|                NULL|          NULL|      voice|second|     flat|Appel vocal natio...|     0.008|       150|          NULL|      NULL|        NULL|         0|\n",
      "|212700943384|    Infinity|DATA_STANDARD|32712273-2e3e-4aa...|2025-06-10 12:59:...|    AGADIR_01|        3G|        NULL|        NULL|        NULL|        ready|     NULL|       NULL|212700943384|                 146|        1492.0|       data|    MB|     flat|Session Data basi...|     0.015|      1500|          NULL|      NULL|      1492.0|    1492.0|\n",
      "|212699595981|     Premium|    VOICE_NAT|8de733f9-3f6b-484...|2025-06-10 13:00:...|    TANGER_01|        5G|212699595981|212732633712|         480|        ready|     NULL|       NULL|        NULL|                NULL|          NULL|      voice|second|     flat|Appel vocal natio...|      0.01|       120|          NULL|      NULL|        NULL|         0|\n",
      "|212623573279|     Starter|DATA_STANDARD|f9263556-84fc-491...|2025-06-10 12:59:...|      inconnu|        4G|        NULL|        NULL|        NULL|        ready|     NULL|       NULL|212623573279|                  62|       1109.35|       data|    MB|     flat|Session Data basi...|     0.018|       750|          NULL|      NULL|     1109.35|   1109.35|\n",
      "|212675185622|     Starter|    DATA_PLUS|3fb0ed98-9087-47c...|2025-06-10 12:59:...|   TETOUAN_01|        5G|        NULL|        NULL|        NULL|        ready|     NULL|       NULL|212675185622|                 499|        1159.5|       data|    MB|   tiered|Session Data prem...|     0.012|      1500|          2048|     0.045|      1159.5|    1159.5|\n",
      "|212675142616|    Infinity|    VOICE_NAT|73bc7b34-dd23-41d...|2025-06-10 13:00:...|     RABAT_03|        4G|212675142616|212773002270|         442|        ready|     NULL|       NULL|        NULL|                NULL|          NULL|      voice|second|     flat|Appel vocal natio...|     0.006|       300|          NULL|      NULL|        NULL|         0|\n",
      "|212600908711|     Starter|    VOICE_NAT|2baf2492-af57-402...|2025-06-10 13:00:...|       FES_02|        5G|212600908711|212789914840|         514|        ready|     NULL|       NULL|        NULL|                NULL|          NULL|      voice|second|     flat|Appel vocal natio...|     0.008|       150|          NULL|      NULL|        NULL|         0|\n",
      "|212735223221|     Starter|DATA_STANDARD|40ae9be8-f5a9-442...|2025-06-10 13:00:...|  ELJADIDA_01|        4G|        NULL|        NULL|        NULL|        ready|     NULL|       NULL|212735223221|                 483|        630.39|       data|    MB|     flat|Session Data basi...|     0.018|       750|          NULL|      NULL|      630.39|    630.39|\n",
      "|212642586295|     Premium|    VOICE_INT|11c9d4d6-526b-4ec...|2025-06-10 12:59:...|    MEKNES_02|        5G|212642586295| 19613083593|         563|        ready|     NULL|       NULL|        NULL|                NULL|          NULL|      voice|second|     flat|Appel vocal inter...|     0.022|         0|          NULL|      NULL|        NULL|         0|\n",
      "|212657871628|     Starter|DATA_STANDARD|f147d7dc-6e1c-41d...|2025-06-10 13:00:...|      inconnu|        4G|        NULL|        NULL|        NULL|      imputed|     NULL|       NULL|212657871628|             inconnu|       inconnu|       data|    MB|     flat|Session Data basi...|     0.018|       750|          NULL|      NULL|        NULL|         0|\n",
      "|212639907742|    Infinity|DATA_STANDARD|a7c5da1b-428f-453...|2025-06-10 13:00:...|   TETOUAN_01|        4G|        NULL|        NULL|        NULL|      imputed|     NULL|       NULL|212639907742|                  84|       inconnu|       data|    MB|     flat|Session Data basi...|     0.015|      1500|          NULL|      NULL|        NULL|         0|\n",
      "+------------+------------+-------------+--------------------+--------------------+-------------+----------+------------+------------+------------+-------------+---------+-----------+------------+--------------------+--------------+-----------+------+---------+--------------------+----------+----------+--------------+----------+------------+----------+\n",
      "only showing top 20 rows\n",
      "\n"
     ]
    }
   ],
   "source": [
    "cdrs4.show()"
   ]
  },
  {
   "cell_type": "code",
   "execution_count": 55,
   "id": "f90936d6",
   "metadata": {},
   "outputs": [],
   "source": [
    "cdrs4 = cdrs4.withColumn(\n",
    "    \"dur_sec_imp\",\n",
    "    when(col(\"duration_sec\").isNull() | (col(\"duration_sec\") < 0), lit(0))\n",
    "    .otherwise(col(\"duration_sec\"))\n",
    ")"
   ]
  },
  {
   "cell_type": "code",
   "execution_count": 56,
   "id": "bb662ace",
   "metadata": {},
   "outputs": [],
   "source": [
    "cdrs4 = cdrs4.withColumn(\n",
    "    \"billable_units\",\n",
    "    when(col(\"record_type\") == \"voice\",\n",
    "         ceil(col(\"dur_sec_imp\")))       # arrondi à la minute\n",
    "    .when(col(\"record_type\") == \"sms\",\n",
    "         lit(1))\n",
    "    .otherwise(                               # data\n",
    "         col(\"imputed_mb\"))\n",
    ")\n"
   ]
  },
  {
   "cell_type": "code",
   "execution_count": 57,
   "id": "26f0b329",
   "metadata": {},
   "outputs": [
    {
     "name": "stdout",
     "output_type": "stream",
     "text": [
      "+------------+------------+-------------+--------------------+--------------------+-------------+----------+------------+------------+------------+-------------+---------+-----------+------------+--------------------+--------------+-----------+------+---------+--------------------+----------+----------+--------------+----------+------------+----------+-----------+--------------+\n",
      "| customer_id|rate_plan_id| product_code|           record_ID|           timestamp|      cell_id|technology|   caller_id|   callee_id|duration_sec|rating_status|sender_id|receiver_id|     user_id|session_duration_sec|data_volume_mb|record_type|  unit|rate_type|         description|unit_price|free_units|tier_threshold|tier_price|user_mean_mb|imputed_mb|dur_sec_imp|billable_units|\n",
      "+------------+------------+-------------+--------------------+--------------------+-------------+----------+------------+------------+------------+-------------+---------+-----------+------------+--------------------+--------------+-----------+------+---------+--------------------+----------+----------+--------------+----------+------------+----------+-----------+--------------+\n",
      "|212617942523|    Infinity|    VOICE_NAT|1f87f2c1-e038-405...|2025-06-10 13:00:...|      inconnu|        5G|212617942523|212662020384|         399|        ready|     NULL|       NULL|        NULL|                NULL|          NULL|      voice|second|     flat|Appel vocal natio...|     0.006|       300|          NULL|      NULL|        NULL|         0|        399|           399|\n",
      "|212793499686|    Infinity|    VOICE_NAT|ff79da47-77d4-4aa...|2025-06-10 13:00:...|    TANGER_03|        3G|212793499686|212639821857|         527|        ready|     NULL|       NULL|        NULL|                NULL|          NULL|      voice|second|     flat|Appel vocal natio...|     0.006|       300|          NULL|      NULL|        NULL|         0|        527|           527|\n",
      "|212647686237|    Infinity|    DATA_PLUS|a5115bcb-29ae-4a4...|2025-06-10 13:00:...|      inconnu|        3G|        NULL|        NULL|        NULL|        ready|     NULL|       NULL|212647686237|                 151|       1846.16|       data|    MB|   tiered|Session Data prem...|     0.012|      2000|          3072|     0.045|     1846.16|   1846.16|          0|       1846.16|\n",
      "|212647835402|     Starter|DATA_STANDARD|53f10fbe-8be8-4d1...|2025-06-10 13:00:...|      inconnu|        3G|        NULL|        NULL|        NULL|      imputed|     NULL|       NULL|212647835402|             inconnu|       1403.68|       data|    MB|     flat|Session Data basi...|     0.018|       750|          NULL|      NULL|     1403.68|   1403.68|          0|       1403.68|\n",
      "|212775619582|     Premium|    DATA_PLUS|ca6e85fb-2af1-4e6...|2025-06-10 13:00:...|CASABLANCA_01|        3G|        NULL|        NULL|        NULL|        ready|     NULL|       NULL|212775619582|                 519|       1140.06|       data|    MB|   tiered|Session Data prem...|     0.015|      1200|          1536|      0.05|     1140.06|   1140.06|          0|       1140.06|\n",
      "|212600679822|     Starter|DATA_STANDARD|6206e624-ce2c-40a...|2025-06-10 12:59:...|CASABLANCA_02|        4G|        NULL|        NULL|        NULL|        ready|     NULL|       NULL|212600679822|                 345|       1153.94|       data|    MB|     flat|Session Data basi...|     0.018|       750|          NULL|      NULL|     1153.94|   1153.94|          0|       1153.94|\n",
      "|212640485801|    Infinity|DATA_STANDARD|339115a8-8ba6-43d...|2025-06-10 13:00:...|     NADOR_01|        4G|        NULL|        NULL|        NULL|        ready|     NULL|       NULL|212640485801|                 484|       1070.46|       data|    MB|     flat|Session Data basi...|     0.015|      1500|          NULL|      NULL|     1070.46|   1070.46|          0|       1070.46|\n",
      "|212624348489|     Premium|    VOICE_NAT|1c941805-549e-46f...|2025-06-10 12:59:...|    AGADIR_02|        4G|212624348489|212700899658|         598|        ready|     NULL|       NULL|        NULL|                NULL|          NULL|      voice|second|     flat|Appel vocal natio...|      0.01|       120|          NULL|      NULL|        NULL|         0|        598|           598|\n",
      "|212736019984|     Starter|DATA_STANDARD|5dab270b-3b1f-47b...|2025-06-10 12:59:...|       FES_02|        4G|        NULL|        NULL|        NULL|      imputed|     NULL|       NULL|212736019984|             inconnu|       1129.53|       data|    MB|     flat|Session Data basi...|     0.018|       750|          NULL|      NULL|     1129.53|   1129.53|          0|       1129.53|\n",
      "|212605274278|     Starter|    VOICE_NAT|400db193-0659-41b...|2025-06-10 12:59:...|   KENITRA_01|        4G|212605274278|212680835265|         199|        ready|     NULL|       NULL|        NULL|                NULL|          NULL|      voice|second|     flat|Appel vocal natio...|     0.008|       150|          NULL|      NULL|        NULL|         0|        199|           199|\n",
      "|212700943384|    Infinity|DATA_STANDARD|32712273-2e3e-4aa...|2025-06-10 12:59:...|    AGADIR_01|        3G|        NULL|        NULL|        NULL|        ready|     NULL|       NULL|212700943384|                 146|        1492.0|       data|    MB|     flat|Session Data basi...|     0.015|      1500|          NULL|      NULL|      1492.0|    1492.0|          0|        1492.0|\n",
      "|212699595981|     Premium|    VOICE_NAT|8de733f9-3f6b-484...|2025-06-10 13:00:...|    TANGER_01|        5G|212699595981|212732633712|         480|        ready|     NULL|       NULL|        NULL|                NULL|          NULL|      voice|second|     flat|Appel vocal natio...|      0.01|       120|          NULL|      NULL|        NULL|         0|        480|           480|\n",
      "|212623573279|     Starter|DATA_STANDARD|f9263556-84fc-491...|2025-06-10 12:59:...|      inconnu|        4G|        NULL|        NULL|        NULL|        ready|     NULL|       NULL|212623573279|                  62|       1109.35|       data|    MB|     flat|Session Data basi...|     0.018|       750|          NULL|      NULL|     1109.35|   1109.35|          0|       1109.35|\n",
      "|212675185622|     Starter|    DATA_PLUS|3fb0ed98-9087-47c...|2025-06-10 12:59:...|   TETOUAN_01|        5G|        NULL|        NULL|        NULL|        ready|     NULL|       NULL|212675185622|                 499|        1159.5|       data|    MB|   tiered|Session Data prem...|     0.012|      1500|          2048|     0.045|      1159.5|    1159.5|          0|        1159.5|\n",
      "|212675142616|    Infinity|    VOICE_NAT|73bc7b34-dd23-41d...|2025-06-10 13:00:...|     RABAT_03|        4G|212675142616|212773002270|         442|        ready|     NULL|       NULL|        NULL|                NULL|          NULL|      voice|second|     flat|Appel vocal natio...|     0.006|       300|          NULL|      NULL|        NULL|         0|        442|           442|\n",
      "|212600908711|     Starter|    VOICE_NAT|2baf2492-af57-402...|2025-06-10 13:00:...|       FES_02|        5G|212600908711|212789914840|         514|        ready|     NULL|       NULL|        NULL|                NULL|          NULL|      voice|second|     flat|Appel vocal natio...|     0.008|       150|          NULL|      NULL|        NULL|         0|        514|           514|\n",
      "|212735223221|     Starter|DATA_STANDARD|40ae9be8-f5a9-442...|2025-06-10 13:00:...|  ELJADIDA_01|        4G|        NULL|        NULL|        NULL|        ready|     NULL|       NULL|212735223221|                 483|        630.39|       data|    MB|     flat|Session Data basi...|     0.018|       750|          NULL|      NULL|      630.39|    630.39|          0|        630.39|\n",
      "|212642586295|     Premium|    VOICE_INT|11c9d4d6-526b-4ec...|2025-06-10 12:59:...|    MEKNES_02|        5G|212642586295| 19613083593|         563|        ready|     NULL|       NULL|        NULL|                NULL|          NULL|      voice|second|     flat|Appel vocal inter...|     0.022|         0|          NULL|      NULL|        NULL|         0|        563|           563|\n",
      "|212657871628|     Starter|DATA_STANDARD|f147d7dc-6e1c-41d...|2025-06-10 13:00:...|      inconnu|        4G|        NULL|        NULL|        NULL|      imputed|     NULL|       NULL|212657871628|             inconnu|       inconnu|       data|    MB|     flat|Session Data basi...|     0.018|       750|          NULL|      NULL|        NULL|         0|          0|             0|\n",
      "|212639907742|    Infinity|DATA_STANDARD|a7c5da1b-428f-453...|2025-06-10 13:00:...|   TETOUAN_01|        4G|        NULL|        NULL|        NULL|      imputed|     NULL|       NULL|212639907742|                  84|       inconnu|       data|    MB|     flat|Session Data basi...|     0.015|      1500|          NULL|      NULL|        NULL|         0|          0|             0|\n",
      "+------------+------------+-------------+--------------------+--------------------+-------------+----------+------------+------------+------------+-------------+---------+-----------+------------+--------------------+--------------+-----------+------+---------+--------------------+----------+----------+--------------+----------+------------+----------+-----------+--------------+\n",
      "only showing top 20 rows\n",
      "\n"
     ]
    }
   ],
   "source": [
    "cdrs4.show()"
   ]
  },
  {
   "cell_type": "code",
   "execution_count": 58,
   "id": "5ba8ab70",
   "metadata": {},
   "outputs": [],
   "source": [
    "cdrsRated = cdrs4.withColumn(\n",
    "    \"cost\",\n",
    "    when(col(\"rate_type\") == \"flat\",\n",
    "         when(col(\"billable_units\") <= col(\"free_units\"), lit(0))\n",
    "         .otherwise((col(\"billable_units\") - col(\"free_units\")) * col(\"unit_price\")))\n",
    "    .when(col(\"rate_type\") == \"tiered\",\n",
    "         when(col(\"billable_units\") <= col(\"free_units\"), lit(0))\n",
    "         .when(col(\"billable_units\") <= col(\"tier_threshold\"),\n",
    "               (col(\"billable_units\") - col(\"free_units\")) * col(\"unit_price\"))\n",
    "         .otherwise(\n",
    "               (col(\"tier_threshold\") - col(\"free_units\")) * col(\"unit_price\") +\n",
    "               (col(\"billable_units\") - col(\"tier_threshold\")) * col(\"tier_price\")))\n",
    ")\n",
    "\n",
    "cdrsRated = cdrsRated.withColumn(\n",
    "    \"rating_status\",\n",
    "    when(col(\"data_volume_mb\").isNull(), \"imputed\")      # data imputée\n",
    "    .when(col(\"duration_sec\").isNull(),  \"imputed\")      # voice imputée\n",
    "    .when(col(\"cost\").isNull(),         \"unmatched\")\n",
    "    .otherwise(\"rated\")\n",
    ")\n"
   ]
  },
  {
   "cell_type": "code",
   "execution_count": 59,
   "id": "a279048f",
   "metadata": {},
   "outputs": [
    {
     "name": "stdout",
     "output_type": "stream",
     "text": [
      "+------------------------------------+------------+-------------+--------------+----------+------------------+-------------+\n",
      "|record_ID                           |customer_id |product_code |billable_units|unit_price|cost              |rating_status|\n",
      "+------------------------------------+------------+-------------+--------------+----------+------------------+-------------+\n",
      "|3b05fe59-8ac1-4bd6-80e2-804949a8d849|212656101919|DATA_PLUS    |1073.35       |0.015     |0.0               |imputed      |\n",
      "|f7a77471-0221-4213-aceb-a7ffdb2dd6cb|212715284078|VOICE_NAT    |239           |0.008     |0.712             |imputed      |\n",
      "|1f87f2c1-e038-405c-b127-3035b0ba0d67|212617942523|VOICE_NAT    |399           |0.006     |0.594             |imputed      |\n",
      "|ff79da47-77d4-4aaa-b4a9-a0cfc5b81b76|212793499686|VOICE_NAT    |527           |0.006     |1.362             |imputed      |\n",
      "|a5115bcb-29ae-4a49-8209-a859fa82529b|212647686237|DATA_PLUS    |1846.16       |0.012     |0.0               |imputed      |\n",
      "|5e9e24e8-17af-4705-8aa8-483bfa854b3b|212788204437|DATA_STANDARD|1645.09       |0.018     |16.11162          |imputed      |\n",
      "|53f10fbe-8be8-4d10-87eb-a56ee0d1a444|212647835402|DATA_STANDARD|1403.68       |0.018     |11.76624          |imputed      |\n",
      "|7ab6f71a-b236-4cb8-aa3d-2873f73eeb45|212788082384|VOICE_NAT    |27            |0.01      |0.0               |imputed      |\n",
      "|5c732c56-7984-4be3-addb-73655a702b65|212771824385|DATA_STANDARD|1740.58       |0.02      |24.8116           |imputed      |\n",
      "|95cce074-a3e5-4e2c-8c8e-71ab6ef44ccd|212772464679|SMS_STD      |1             |0.04      |0.0               |imputed      |\n",
      "|76026bb1-7bcb-4e82-8989-881073d28bb1|212771321814|DATA_STANDARD|7.03          |0.02      |0.0               |imputed      |\n",
      "|82f03809-ed09-41a5-88cb-cc8320ca79b7|212666816296|DATA_PLUS    |1924.2        |0.012     |5.090400000000001 |imputed      |\n",
      "|ca6e85fb-2af1-4e6f-b369-0bf9f8e17a60|212775619582|DATA_PLUS    |1140.06       |0.015     |0.0               |imputed      |\n",
      "|f3b8a5bb-b871-4e97-9e6e-2b45af8bdbe9|212624913140|VOICE_NAT    |595           |0.008     |3.56              |imputed      |\n",
      "|c521fb63-49de-4297-b302-cdf14b701b98|212770092161|SMS_STD      |1             |0.04      |0.0               |imputed      |\n",
      "|2d661e4f-0a47-4aec-85d1-cd94fe7f49e6|212765805128|VOICE_NAT    |386           |0.006     |0.516             |imputed      |\n",
      "|6206e624-ce2c-40ae-a386-3dd41116d293|212600679822|DATA_STANDARD|1153.94       |0.018     |7.27092           |imputed      |\n",
      "|3ee84f92-ac48-42c9-afda-8ed260c0fbfd|212702213787|SMS_STD      |1             |0.04      |0.0               |imputed      |\n",
      "|3b2a4833-e023-42c4-9dde-8555f1294d34|212609772299|VOICE_INT    |248           |0.022     |5.4559999999999995|imputed      |\n",
      "|d818650a-0136-434a-b413-16c5f628a269|212689077099|VOICE_NAT    |508           |0.006     |1.248             |imputed      |\n",
      "+------------------------------------+------------+-------------+--------------+----------+------------------+-------------+\n",
      "only showing top 20 rows\n",
      "\n"
     ]
    }
   ],
   "source": [
    "cdrsRated.select(\"record_ID\",\"customer_id\",\"product_code\",\n",
    "                 \"billable_units\",\"unit_price\",\"cost\",\"rating_status\") \\\n",
    "         .show(truncate=False)\n"
   ]
  },
  {
   "cell_type": "code",
   "execution_count": null,
   "id": "dfa86650",
   "metadata": {},
   "outputs": [],
   "source": []
  }
 ],
 "metadata": {
  "kernelspec": {
   "display_name": "Python 3",
   "language": "python",
   "name": "python3"
  },
  "language_info": {
   "codemirror_mode": {
    "name": "ipython",
    "version": 3
   },
   "file_extension": ".py",
   "mimetype": "text/x-python",
   "name": "python",
   "nbconvert_exporter": "python",
   "pygments_lexer": "ipython3",
   "version": "3.11.5"
  }
 },
 "nbformat": 4,
 "nbformat_minor": 5
}
